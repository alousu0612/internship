{
  "nbformat": 4,
  "nbformat_minor": 0,
  "metadata": {
    "colab": {
      "name": "bert_modeling.ipynb",
      "provenance": [],
      "collapsed_sections": [],
      "mount_file_id": "1kTHuynZylxWlfe5A27ouCp9pbkmJy7tK",
      "authorship_tag": "ABX9TyP/E/zuLu+DFDYpqiUP+6w5",
      "include_colab_link": true
    },
    "kernelspec": {
      "name": "python3",
      "display_name": "Python 3"
    },
    "accelerator": "GPU"
  },
  "cells": [
    {
      "cell_type": "markdown",
      "metadata": {
        "id": "view-in-github",
        "colab_type": "text"
      },
      "source": [
        "<a href=\"https://colab.research.google.com/github/alousu0612/internship/blob/master/bert_modeling.ipynb\" target=\"_parent\"><img src=\"https://colab.research.google.com/assets/colab-badge.svg\" alt=\"Open In Colab\"/></a>"
      ]
    },
    {
      "cell_type": "markdown",
      "metadata": {
        "id": "H24iKTukz4rI",
        "colab_type": "text"
      },
      "source": [
        "## Environment Preparation"
      ]
    },
    {
      "cell_type": "code",
      "metadata": {
        "id": "GVtrFSoKyNBu",
        "colab_type": "code",
        "colab": {}
      },
      "source": [
        "!pip3 install transformers"
      ],
      "execution_count": null,
      "outputs": []
    },
    {
      "cell_type": "code",
      "metadata": {
        "id": "zkLgvO5qyRiq",
        "colab_type": "code",
        "colab": {}
      },
      "source": [
        "!pip3 install -U sentence-transformers"
      ],
      "execution_count": null,
      "outputs": []
    },
    {
      "cell_type": "code",
      "metadata": {
        "id": "hQnHSkknk5se",
        "colab_type": "code",
        "colab": {}
      },
      "source": [
        "import io\n",
        "import os\n",
        "import random\n",
        "import time\n",
        "import datetime\n",
        "import numpy as np\n",
        "import pandas as pd\n",
        "import re\n",
        "import scipy\n",
        "\n",
        "from torch.utils.data import TensorDataset, DataLoader, SequentialSampler\n",
        "\n",
        "import tensorflow as tf\n",
        "import torch\n",
        "\n",
        "from google.colab import files\n",
        "from sklearn.model_selection import train_test_split\n",
        "from sklearn.metrics import confusion_matrix\n",
        "from transformers import BertTokenizer, BertForSequenceClassification, AdamW, AdamWeightDecay, BertConfig, get_linear_schedule_with_warmup\n",
        "from torch.utils.data import TensorDataset, random_split, DataLoader, RandomSampler, SequentialSampler, SubsetRandomSampler, BatchSampler\n",
        "from sentence_transformers import SentenceTransformer"
      ],
      "execution_count": null,
      "outputs": []
    },
    {
      "cell_type": "code",
      "metadata": {
        "id": "JzhsRbq1yILT",
        "colab_type": "code",
        "colab": {
          "base_uri": "https://localhost:8080/",
          "height": 54
        },
        "outputId": "4bc80fe1-b038-4439-d4b1-f9509cc55fec"
      },
      "source": [
        "from google.colab import drive\n",
        "drive.mount('/content/drive')"
      ],
      "execution_count": null,
      "outputs": [
        {
          "output_type": "stream",
          "text": [
            "Drive already mounted at /content/drive; to attempt to forcibly remount, call drive.mount(\"/content/drive\", force_remount=True).\n"
          ],
          "name": "stdout"
        }
      ]
    },
    {
      "cell_type": "code",
      "metadata": {
        "id": "xbgUibXtyyyA",
        "colab_type": "code",
        "colab": {
          "base_uri": "https://localhost:8080/",
          "height": 51
        },
        "outputId": "b7786677-6c44-4a59-dbbf-da74079a54a2"
      },
      "source": [
        "!ls \"/content/drive/My Drive/Colab Notebooks/utils\""
      ],
      "execution_count": null,
      "outputs": [
        {
          "output_type": "stream",
          "text": [
            "data_retriever.py  modeling.py\t   predict_process.py  title_similarity.py\n",
            "__init__.py\t   NewsDataset.py  __pycache__\n"
          ],
          "name": "stdout"
        }
      ]
    },
    {
      "cell_type": "code",
      "metadata": {
        "id": "F6oxJ0wd0ciD",
        "colab_type": "code",
        "colab": {}
      },
      "source": [
        "import sys\n",
        "sys.path.append('/content/drive/My Drive/Colab Notebooks')"
      ],
      "execution_count": null,
      "outputs": []
    },
    {
      "cell_type": "code",
      "metadata": {
        "id": "GG4td0YH_Hci",
        "colab_type": "code",
        "colab": {}
      },
      "source": [
        "import utils.title_similarity as tls\n",
        "import utils.modeling as mdl\n",
        "import utils.NewsDataset as ndt"
      ],
      "execution_count": null,
      "outputs": []
    },
    {
      "cell_type": "markdown",
      "metadata": {
        "id": "XJ59r72GzpAn",
        "colab_type": "text"
      },
      "source": [
        "## Read Data"
      ]
    },
    {
      "cell_type": "code",
      "metadata": {
        "id": "UA0fGuKezNnm",
        "colab_type": "code",
        "colab": {}
      },
      "source": [
        "## read news data -- colab\n",
        "# data = pd.read_excel(io.BytesIO(newsfiles['order.xlsx']))\n",
        "data_path = '/content/drive/My Drive/Colab Notebooks/data/order.xlsx'\n",
        "data = pd.read_excel(data_path)\n",
        "data.dropna(inplace=True)\n",
        "data.drop(['label'], axis=1, inplace=True)\n",
        "data = data.rename(columns={'label_revised': 'label'})\n",
        "data = data.reset_index(drop=True)\n",
        "\n",
        "## data preprocessing \n",
        "data['label'] += 1\n",
        "raw_data = data.copy()"
      ],
      "execution_count": null,
      "outputs": []
    },
    {
      "cell_type": "code",
      "metadata": {
        "id": "jWfcbEAj0Cn-",
        "colab_type": "code",
        "colab": {
          "base_uri": "https://localhost:8080/",
          "height": 190
        },
        "outputId": "d5e87170-9820-483b-de2e-361033eb8366"
      },
      "source": [
        "## combine higher similarities contents with titles\n",
        "\n",
        "%%time\n",
        "data = tls.combine_context(data, context_length=512)"
      ],
      "execution_count": null,
      "outputs": [
        {
          "output_type": "stream",
          "text": [
            "/usr/local/lib/python3.6/dist-packages/transformers/tokenization_utils.py:831: FutureWarning: Parameter max_len is deprecated and will be removed in a future release. Use model_max_length instead.\n",
            "  category=FutureWarning,\n",
            "/usr/local/lib/python3.6/dist-packages/pandas/core/indexing.py:671: SettingWithCopyWarning: \n",
            "A value is trying to be set on a copy of a slice from a DataFrame\n",
            "\n",
            "See the caveats in the documentation: https://pandas.pydata.org/pandas-docs/stable/user_guide/indexing.html#returning-a-view-versus-a-copy\n",
            "  self._setitem_with_indexer(indexer, value)\n"
          ],
          "name": "stderr"
        },
        {
          "output_type": "stream",
          "text": [
            "CPU times: user 41.3 s, sys: 4.46 s, total: 45.8 s\n",
            "Wall time: 45.8 s\n"
          ],
          "name": "stdout"
        }
      ]
    },
    {
      "cell_type": "markdown",
      "metadata": {
        "id": "kznsDUBo5xIE",
        "colab_type": "text"
      },
      "source": [
        "## Training Procedures"
      ]
    },
    {
      "cell_type": "code",
      "metadata": {
        "id": "x3Quf6VjS1Rl",
        "colab_type": "code",
        "colab": {
          "base_uri": "https://localhost:8080/",
          "height": 1000
        },
        "outputId": "130fba77-291d-43eb-8038-be1bc6494b7a"
      },
      "source": [
        "# One can change models here(bert-base-chinese、bert-base-uncased、xlnet-mid-chinese)\n",
        "model_version = 'bert-base-chinese'\n",
        "tokenizer = BertTokenizer.from_pretrained(model_version)\n",
        "\n",
        "# Load BertForSequenceClassification, the pretrained BERT model with a single linear classification layer on top. \n",
        "model = BertForSequenceClassification.from_pretrained(\n",
        "    model_version,          # Use the 12-layer BERT model, with an uncased vocab.\n",
        "    num_labels = 3,               # The number of output labels--2 for binary classification and you can increase this for multi-class tasks.   \n",
        "    output_attentions = False,    # Whether the model returns attentions weights.\n",
        "    output_hidden_states = False, # Whether the model returns all hidden-states.\n",
        ")\n",
        "\n",
        "# NewsDataSet class ------------------------------------------------------------------------------------------------\n",
        "newsdata = ndt.NewsDataset('training', datafiles=data, tokenizer=tokenizer)\n",
        "\n",
        "#----split your data as training set and validation set-------------------------------------------------------------\n",
        "#----data_split(data_set,test_size=0.1,batch_size=20) as you can see test_size and batch_size have default values---\n",
        "batch_size = 8\n",
        "train_dataloader, val_dataloader, test_idx = mdl.data_split(newsdata,\n",
        "                                                            train_prop=0.7, val_prop=0.1,\n",
        "                                                            batch_size=batch_size)\n",
        "\n",
        "#----train!!!!!------------------------------------------------------------------------------------------------------\n",
        "epochs = 10\n",
        "model = mdl.train_process(model, train_dataloader, val_dataloader, epochs=epochs)\n",
        "\n",
        "# Save your model----------------------------------------------------------------------------------------------------\n",
        "output_dir = '/content/drive/My Drive/Colab Notebooks/model/model_order/'\n",
        "mdl.save_model(model, tokenizer, output_dir)"
      ],
      "execution_count": null,
      "outputs": [
        {
          "output_type": "stream",
          "text": [
            "There are 1 GPU(s) available.\n",
            "We will use the GPU: Tesla P100-PCIE-16GB\n",
            "\n",
            "================== Epoch 1 / 10 ==================\n",
            "Training...\n",
            "  Batch    40  of     85.    Elapsed: 0:00:18.\n",
            "  Batch    80  of     85.    Elapsed: 0:00:35.\n",
            "\n",
            "  Average training loss: 0.75\n",
            "  Training epcoh took: 0:00:38\n",
            "\n",
            "Running Validation...\n",
            "  Accuracy: 0.80\n",
            "  Validation took: 0:00:02\n",
            "\n",
            "================== Epoch 2 / 10 ==================\n",
            "Training...\n",
            "  Batch    40  of     85.    Elapsed: 0:00:18.\n",
            "  Batch    80  of     85.    Elapsed: 0:00:35.\n",
            "\n",
            "  Average training loss: 0.36\n",
            "  Training epcoh took: 0:00:38\n",
            "\n",
            "Running Validation...\n",
            "  Accuracy: 0.87\n",
            "  Validation took: 0:00:02\n",
            "\n",
            "================== Epoch 3 / 10 ==================\n",
            "Training...\n",
            "  Batch    40  of     85.    Elapsed: 0:00:18.\n",
            "  Batch    80  of     85.    Elapsed: 0:00:35.\n",
            "\n",
            "  Average training loss: 0.23\n",
            "  Training epcoh took: 0:00:38\n",
            "\n",
            "Running Validation...\n",
            "  Accuracy: 0.79\n",
            "  Validation took: 0:00:02\n",
            "\n",
            "================== Epoch 4 / 10 ==================\n",
            "Training...\n",
            "  Batch    40  of     85.    Elapsed: 0:00:18.\n",
            "  Batch    80  of     85.    Elapsed: 0:00:35.\n",
            "\n",
            "  Average training loss: 0.14\n",
            "  Training epcoh took: 0:00:37\n",
            "\n",
            "Running Validation...\n",
            "  Accuracy: 0.84\n",
            "  Validation took: 0:00:02\n",
            "\n",
            "================== Epoch 5 / 10 ==================\n",
            "Training...\n",
            "  Batch    40  of     85.    Elapsed: 0:00:18.\n",
            "  Batch    80  of     85.    Elapsed: 0:00:35.\n",
            "\n",
            "  Average training loss: 0.05\n",
            "  Training epcoh took: 0:00:37\n",
            "\n",
            "Running Validation...\n",
            "  Accuracy: 0.87\n",
            "  Validation took: 0:00:02\n",
            "\n",
            "================== Epoch 6 / 10 ==================\n",
            "Training...\n",
            "  Batch    40  of     85.    Elapsed: 0:00:18.\n",
            "  Batch    80  of     85.    Elapsed: 0:00:35.\n",
            "\n",
            "  Average training loss: 0.03\n",
            "  Training epcoh took: 0:00:37\n",
            "\n",
            "Running Validation...\n",
            "  Accuracy: 0.80\n",
            "  Validation took: 0:00:02\n",
            "\n",
            "================== Epoch 7 / 10 ==================\n",
            "Training...\n",
            "  Batch    40  of     85.    Elapsed: 0:00:18.\n",
            "  Batch    80  of     85.    Elapsed: 0:00:35.\n",
            "\n",
            "  Average training loss: 0.01\n",
            "  Training epcoh took: 0:00:37\n",
            "\n",
            "Running Validation...\n",
            "  Accuracy: 0.89\n",
            "  Validation took: 0:00:02\n",
            "\n",
            "================== Epoch 8 / 10 ==================\n",
            "Training...\n",
            "  Batch    40  of     85.    Elapsed: 0:00:18.\n",
            "  Batch    80  of     85.    Elapsed: 0:00:35.\n",
            "\n",
            "  Average training loss: 0.01\n",
            "  Training epcoh took: 0:00:37\n",
            "\n",
            "Running Validation...\n",
            "  Accuracy: 0.88\n",
            "  Validation took: 0:00:02\n",
            "\n",
            "================== Epoch 9 / 10 ==================\n",
            "Training...\n",
            "  Batch    40  of     85.    Elapsed: 0:00:18.\n",
            "  Batch    80  of     85.    Elapsed: 0:00:35.\n",
            "\n",
            "  Average training loss: 0.01\n",
            "  Training epcoh took: 0:00:37\n",
            "\n",
            "Running Validation...\n",
            "  Accuracy: 0.89\n",
            "  Validation took: 0:00:02\n",
            "\n",
            "================== Epoch 10 / 10 ==================\n",
            "Training...\n",
            "  Batch    40  of     85.    Elapsed: 0:00:18.\n",
            "  Batch    80  of     85.    Elapsed: 0:00:35.\n",
            "\n",
            "  Average training loss: 0.01\n",
            "  Training epcoh took: 0:00:37\n",
            "\n",
            "Running Validation...\n",
            "  Accuracy: 0.88\n",
            "  Validation took: 0:00:02\n",
            "\n",
            "Training complete!\n",
            "memory used:1700556288\n",
            "cache used:8485076992\n",
            "memory used:838355456\n",
            "cache used:1153433600\n",
            "Saving model to /content/drive/My Drive/Colab Notebooks/model/model_order/\n"
          ],
          "name": "stdout"
        }
      ]
    },
    {
      "cell_type": "markdown",
      "metadata": {
        "id": "I6XsjTW951Fr",
        "colab_type": "text"
      },
      "source": [
        "## Prediction"
      ]
    },
    {
      "cell_type": "code",
      "metadata": {
        "id": "uF0OVA_fw6Zf",
        "colab_type": "code",
        "colab": {
          "base_uri": "https://localhost:8080/",
          "height": 119
        },
        "outputId": "00063533-bfd2-4ac0-e03b-159fc42368fd"
      },
      "source": [
        "## test data preparation\n",
        "testdata = ndt.NewsDataset('testing', datafiles=data.loc[test_idx], tokenizer=tokenizer)\n",
        "test_dataloader = mdl.to_dataloader(testdata.tokens, testdata.masks, testdata.labels)\n",
        "\n",
        "## prediction \n",
        "predicted_data = mdl.predict_process(model, test_dataloader, data.loc[test_idx])"
      ],
      "execution_count": null,
      "outputs": [
        {
          "output_type": "stream",
          "text": [
            "Running Prediction...\n",
            "There are 1 GPU(s) available.\n",
            "We will use the GPU: Tesla P100-PCIE-16GB\n",
            "  Accuracy: 0.91\n",
            "  Validation took: 0:00:04\n",
            " Prediction complete!!\n"
          ],
          "name": "stdout"
        }
      ]
    },
    {
      "cell_type": "code",
      "metadata": {
        "id": "VWHU2XN73gk9",
        "colab_type": "code",
        "colab": {}
      },
      "source": [
        "predict_files_path = '/content/drive/My Drive/Colab Notebooks/results/' + 'prediction.csv'\n",
        "predicted_data.to_csv(predict_files_path, encoding='utf_8_sig')"
      ],
      "execution_count": null,
      "outputs": []
    },
    {
      "cell_type": "code",
      "metadata": {
        "id": "Otn9P7066LkX",
        "colab_type": "code",
        "colab": {}
      },
      "source": [
        "from google.colab import files\n",
        "files.download('wrong_labels.csv')"
      ],
      "execution_count": null,
      "outputs": []
    },
    {
      "cell_type": "code",
      "metadata": {
        "id": "O-PYq57R5iQ0",
        "colab_type": "code",
        "colab": {}
      },
      "source": [
        "wrong_labels = predicted_data[predicted_data['label']!=predicted_data['predict_label']]\n",
        "predict_files_path = '/content/drive/My Drive/Colab Notebooks/results/' + 'wrong_labels.csv'\n",
        "wrong_labels.to_csv(predict_files_path, encoding='utf_8_sig')"
      ],
      "execution_count": null,
      "outputs": []
    },
    {
      "cell_type": "code",
      "metadata": {
        "id": "-KeU6OA-_O3h",
        "colab_type": "code",
        "colab": {}
      },
      "source": [
        "test_data = raw_data.loc[test_idx]['contents']"
      ],
      "execution_count": null,
      "outputs": []
    },
    {
      "cell_type": "code",
      "metadata": {
        "id": "_sgrXCSb_sR5",
        "colab_type": "code",
        "colab": {
          "base_uri": "https://localhost:8080/",
          "height": 221
        },
        "outputId": "ff599069-618b-48da-eb1d-4e5b9e04afa1"
      },
      "source": [
        "test_data"
      ],
      "execution_count": null,
      "outputs": [
        {
          "output_type": "execute_result",
          "data": {
            "text/plain": [
              "508    在一片因為新冠肺炎疫情衝擊而衰鴻遍野的各行各業中，汽車產業卻連續兩個月異軍突起，都較去年同期...\n",
              "705    （1476）第1季稅後純益6.96億元，年減22.6%，每股純益2.54元，為近三年單季獲利...\n",
              "317    宣布與GLOBALFOUNDRIES簽訂合作備忘錄 (MOU)，協議雙方將進一步合作，環球晶...\n",
              "248    自動化設備廠盟立 (2464-TW) 今年受美中貿易戰影響，部分客戶訂單延遲交貨，影響第 3...\n",
              "645    【財訊快報／記者何美如報導】網通廠仲琦(2419)18日股東會通過盈餘分配案，現金股利每股配...\n",
              "                             ...                        \n",
              "917    記者周康玉／台北報導台積電轉投資的半導體晶圓封裝廠精材（3374）今（13）日舉行法說會。精...\n",
              "644    【財訊快報／記者何美如報導】亞諾法(4133)搶進新冠肺炎檢測商機跨步，與合作夥伴Assur...\n",
              "518    ['根據韓媒報導指出，韓國產業官員表示，正為三星提供智慧手機零組件的韓國中小企業擔心，受到成...\n",
              "238    醫材廠敏成 (4431-TW) 董事長古思明今 (6) 日表示，中國武漢肺炎疫情持續擴大，推...\n",
              "24     經濟部統計處20日公布2019年12月及全年外銷訂單統計，外銷訂單437.8億美元，與去年同...\n",
              "Name: contents, Length: 194, dtype: object"
            ]
          },
          "metadata": {
            "tags": []
          },
          "execution_count": 13
        }
      ]
    },
    {
      "cell_type": "code",
      "metadata": {
        "id": "8Q0brQW7_3ip",
        "colab_type": "code",
        "colab": {}
      },
      "source": [
        "predicted_data['contents_original'] = test_data"
      ],
      "execution_count": null,
      "outputs": []
    },
    {
      "cell_type": "code",
      "metadata": {
        "id": "kwgib74OAAhY",
        "colab_type": "code",
        "colab": {
          "base_uri": "https://localhost:8080/",
          "height": 1000
        },
        "outputId": "bde5f975-4f75-4f7b-a8db-74e1154d32f8"
      },
      "source": [
        "wrong_labels"
      ],
      "execution_count": null,
      "outputs": [
        {
          "output_type": "execute_result",
          "data": {
            "text/html": [
              "<div>\n",
              "<style scoped>\n",
              "    .dataframe tbody tr th:only-of-type {\n",
              "        vertical-align: middle;\n",
              "    }\n",
              "\n",
              "    .dataframe tbody tr th {\n",
              "        vertical-align: top;\n",
              "    }\n",
              "\n",
              "    .dataframe thead th {\n",
              "        text-align: right;\n",
              "    }\n",
              "</style>\n",
              "<table border=\"1\" class=\"dataframe\">\n",
              "  <thead>\n",
              "    <tr style=\"text-align: right;\">\n",
              "      <th></th>\n",
              "      <th>times</th>\n",
              "      <th>titles</th>\n",
              "      <th>contents</th>\n",
              "      <th>tags</th>\n",
              "      <th>label</th>\n",
              "      <th>predict_label</th>\n",
              "      <th>contents_original</th>\n",
              "    </tr>\n",
              "  </thead>\n",
              "  <tbody>\n",
              "    <tr>\n",
              "      <th>248</th>\n",
              "      <td>2019-12-02 12:12:09</td>\n",
              "      <td>〈盟立展望〉客戶訂單遞延 Q4營運可望持平上季 全年營收仍衰退</td>\n",
              "      <td>〈盟立展望〉客戶訂單遞延 Q4營運可望持平上季 全年營收仍衰退：自動化設備廠盟立2464TW...</td>\n",
              "      <td>['盟立', '自動化設備', '面板廠', '盟立']</td>\n",
              "      <td>0.0</td>\n",
              "      <td>1</td>\n",
              "      <td>自動化設備廠盟立 (2464-TW) 今年受美中貿易戰影響，部分客戶訂單延遲交貨，影響第 3...</td>\n",
              "    </tr>\n",
              "    <tr>\n",
              "      <th>455</th>\n",
              "      <td>2020-02-24 13:24:23</td>\n",
              "      <td>《電子零件》價格、訂單皆穩，晶技Q1業績估優於去年同期</td>\n",
              "      <td>《電子零件》價格、訂單皆穩，晶技Q1業績估優於去年同期：自結1月每股稅前盈餘為025元，由於...</td>\n",
              "      <td>['晶技', '產品', '25', '訂單', '大陸廠區']</td>\n",
              "      <td>2.0</td>\n",
              "      <td>1</td>\n",
              "      <td>自結1月每股稅前盈餘為0.25元，由於日廠淡出部分產品，且大陸廠區因農曆年期間員工留守率高，...</td>\n",
              "    </tr>\n",
              "    <tr>\n",
              "      <th>250</th>\n",
              "      <td>2019-11-06 14:53:05</td>\n",
              "      <td>〈米蘭機車展亮點〉三陽強打三款歐五環保車+高階重機 搶國際訂單</td>\n",
              "      <td>〈米蘭機車展亮點〉三陽強打三款歐五環保車+高階重機 搶國際訂單：2019年米蘭國際機車展登場...</td>\n",
              "      <td>['三陽', '米蘭機車展', '歐五環保機車', 'Maxsym TL', '高階重機',...</td>\n",
              "      <td>1.0</td>\n",
              "      <td>2</td>\n",
              "      <td>2019 年米蘭國際機車展登場，國內機車大廠三陽 (2206-TW) 發表三款歐五 (EUR...</td>\n",
              "    </tr>\n",
              "    <tr>\n",
              "      <th>565</th>\n",
              "      <td>2020-04-06 14:12:25</td>\n",
              "      <td>中國被爆捐法10億口罩換華為訂單 美批趁火打劫</td>\n",
              "      <td>中國被爆捐法10億口罩換華為訂單 美批趁火打劫：武漢肺炎肆虐全球，多國醫療物資短缺，中國被控...</td>\n",
              "      <td>['習近平', '共和黨', '川普']</td>\n",
              "      <td>1.0</td>\n",
              "      <td>0</td>\n",
              "      <td>武漢肺炎肆虐全球，多國醫療物資短缺，中國被控趁火打劫，趁機獲利。美國聯邦眾議員葛林爆料，中國...</td>\n",
              "    </tr>\n",
              "    <tr>\n",
              "      <th>627</th>\n",
              "      <td>2020-04-14 09:00:10</td>\n",
              "      <td>個股分析／茂林-KY 遞延訂單Q2加快出貨</td>\n",
              "      <td>個股分析／茂林-KY 遞延訂單Q2加快出貨：疫情讓全球在家辦公、上學的人口持續增加，也帶動筆...</td>\n",
              "      <td>['萬寶週刊', '陳子榕', '茂林', '大學光']</td>\n",
              "      <td>1.0</td>\n",
              "      <td>2</td>\n",
              "      <td>疫情讓全球在家辦公、上學的人口持續增加，也帶動筆電、平板電腦或桌上型電腦需求激增，陸續傳出通...</td>\n",
              "    </tr>\n",
              "    <tr>\n",
              "      <th>566</th>\n",
              "      <td>2020-04-06 17:00:04</td>\n",
              "      <td>中國被爆捐法國 10 億口罩換華為訂單，美批趁火打劫</td>\n",
              "      <td>中國被爆捐法國 10 億口罩換華為訂單，美批趁火打劫：武漢肺炎肆虐全球，多國醫療物資短缺，中...</td>\n",
              "      <td>[]</td>\n",
              "      <td>1.0</td>\n",
              "      <td>0</td>\n",
              "      <td>武漢肺炎肆虐全球，多國醫療物資短缺，中國被控趁火打劫，趁機獲利。美國聯邦眾議員葛林爆料，中國...</td>\n",
              "    </tr>\n",
              "    <tr>\n",
              "      <th>557</th>\n",
              "      <td>2019-11-01 13:32:00</td>\n",
              "      <td>世豐今年業績看成長；訂單能見度2~3個月</td>\n",
              "      <td>世豐今年業績看成長；訂單能見度2~3個月：另外，世豐今年也積極展開全球市場布局，除在越南設新...</td>\n",
              "      <td>[]</td>\n",
              "      <td>2.0</td>\n",
              "      <td>1</td>\n",
              "      <td>['MoneyDJ新聞 2019-11-01 13:32:02 記者 丁于珊 報導', '世...</td>\n",
              "    </tr>\n",
              "    <tr>\n",
              "      <th>26</th>\n",
              "      <td>2019-12-20 16:00:00</td>\n",
              "      <td>12月外銷訂單連13黑 經部：減幅收斂「憂中帶喜」</td>\n",
              "      <td>12月外銷訂單連13黑 經部：減幅收斂「憂中帶喜」：記者林淑慧／台北報導經濟部統計處今（20...</td>\n",
              "      <td>[]</td>\n",
              "      <td>0.0</td>\n",
              "      <td>1</td>\n",
              "      <td>記者林淑慧／台北報導\\r經濟部統計處今（20）日公佈12月外銷訂單統計，訂單金額為445.3...</td>\n",
              "    </tr>\n",
              "    <tr>\n",
              "      <th>754</th>\n",
              "      <td>2020-04-22 17:10:54</td>\n",
              "      <td>外送訂單附註要求說「我愛你」 結局讓網友全笑翻</td>\n",
              "      <td>外送訂單附註要求說「我愛你」 結局讓網友全笑翻：近年來外送產業日漸發展，可以附註簡單的客製化...</td>\n",
              "      <td>['外送員', '口罩', '餐具']</td>\n",
              "      <td>1.0</td>\n",
              "      <td>2</td>\n",
              "      <td>\\r\\n近年來外送產業日漸發展，可以附註簡單的客製化服務，也深受人們喜愛。日前一名接到一張女...</td>\n",
              "    </tr>\n",
              "    <tr>\n",
              "      <th>956</th>\n",
              "      <td>2020-03-23 10:07:30</td>\n",
              "      <td>訂單無虞 茂林盤中逆勢翻紅上攻</td>\n",
              "      <td>訂單無虞 茂林盤中逆勢翻紅上攻：茂林KY（4935）今（23）日無懼台股大盤走弱，展現抗跌力...</td>\n",
              "      <td>['茂林', '外資', '自營商']</td>\n",
              "      <td>1.0</td>\n",
              "      <td>2</td>\n",
              "      <td>茂林-KY（4935）今（23）日無懼台股大盤走弱，展現抗跌力道，盤中一度逆勢翻紅，最高曾漲...</td>\n",
              "    </tr>\n",
              "    <tr>\n",
              "      <th>450</th>\n",
              "      <td>2019-12-23 08:35:39</td>\n",
              "      <td>《電子零件》5G基地台新訂單發酵，聯茂明年Q1不淡</td>\n",
              "      <td>《電子零件》5G基地台新訂單發酵，聯茂明年Q1不淡：聯茂近幾年全力投入開發高頻高速材料，成果...</td>\n",
              "      <td>['成長']</td>\n",
              "      <td>1.0</td>\n",
              "      <td>2</td>\n",
              "      <td>大陸5G基地台新訂單可望自明年1月開始發酵，聯茂(6213)明年第1季營運淡季不淡，聯茂預估...</td>\n",
              "    </tr>\n",
              "    <tr>\n",
              "      <th>1</th>\n",
              "      <td>2020-03-27 19:00:55</td>\n",
              "      <td>(3037)欣興-重大訊息 公告本公司董事會決議通過追加109年度資本預算\\r\\n及長交期設...</td>\n",
              "      <td>(3037)欣興-重大訊息 公告本公司董事會決議通過追加109年度資本預算\\r\\n及長交期設...</td>\n",
              "      <td>['3037', '欣興']</td>\n",
              "      <td>1.0</td>\n",
              "      <td>2</td>\n",
              "      <td>\\n序號\\n2\\n發言日期\\n109/03/27\\n發言時間\\n19:00:55\\n發言人\\...</td>\n",
              "    </tr>\n",
              "    <tr>\n",
              "      <th>93</th>\n",
              "      <td>2019-11-07 01:00:39</td>\n",
              "      <td>ASML 延後中國企業訂單出貨，光刻設備恐淪為貿易戰武器</td>\n",
              "      <td>ASML 延後中國企業訂單出貨，光刻設備恐淪為貿易戰武器：美中貿易戰的狀況，原本市場人士都預...</td>\n",
              "      <td>[]</td>\n",
              "      <td>2.0</td>\n",
              "      <td>0</td>\n",
              "      <td>美中貿易戰的狀況，原本市場人士都預料將會有所和緩。不料，在日前傳出美國政府關切晶圓代工龍頭台...</td>\n",
              "    </tr>\n",
              "    <tr>\n",
              "      <th>312</th>\n",
              "      <td>2020-02-27 11:42:07</td>\n",
              "      <td>《半導體》合晶Q2訂單轉觀望，H2產能肯定贏H1</td>\n",
              "      <td>《半導體》合晶Q2訂單轉觀望，H2產能肯定贏H1：矽晶圓廠去年的預算規畫時，原估今年第二季的...</td>\n",
              "      <td>['上海合晶', '合晶', '產能', '生產', 'H2']</td>\n",
              "      <td>1.0</td>\n",
              "      <td>2</td>\n",
              "      <td>矽晶圓廠去年的預算規畫時，原估今年第二季的訂單能見度會優於Q1，但受到新冠肺炎疫情影響，目前...</td>\n",
              "    </tr>\n",
              "    <tr>\n",
              "      <th>759</th>\n",
              "      <td>2019-10-21 18:50:53</td>\n",
              "      <td>外銷訂單12月可望單月轉正 估全年仍將年減4-6%</td>\n",
              "      <td>外銷訂單12月可望單月轉正 估全年仍將年減4-6%：9月外銷訂單呈現連11黑，經濟部統計處處...</td>\n",
              "      <td>['外銷訂單', '經濟部', '貿易戰']</td>\n",
              "      <td>1.0</td>\n",
              "      <td>0</td>\n",
              "      <td>['9 月外銷訂單呈現連 11 黑，經濟部統計處處長黃于玲表示，依目前來看，因貿易戰影響全球...</td>\n",
              "    </tr>\n",
              "    <tr>\n",
              "      <th>104</th>\n",
              "      <td>2020-04-10 08:04:33</td>\n",
              "      <td>IC設計 Q3訂單能見度一片空白(電子時報，無內文)</td>\n",
              "      <td>IC設計 Q3訂單能見度一片空白(電子時報，無內文)</td>\n",
              "      <td>['全球各國主要產品地圖', '兩岸半導體食物鏈']</td>\n",
              "      <td>0.0</td>\n",
              "      <td>1</td>\n",
              "      <td>\\r\\n                     \\r\\n                 ...</td>\n",
              "    </tr>\n",
              "    <tr>\n",
              "      <th>52</th>\n",
              "      <td>2020-05-05 08:08:07</td>\n",
              "      <td>4月PMI 新增訂單、生產數量皆大降(工商時報，無內文)</td>\n",
              "      <td>4月PMI 新增訂單、生產數量皆大降(工商時報，無內文)</td>\n",
              "      <td>['經濟指標']</td>\n",
              "      <td>2.0</td>\n",
              "      <td>0</td>\n",
              "      <td>\\r\\n                     \\r\\n                 ...</td>\n",
              "    </tr>\n",
              "    <tr>\n",
              "      <th>917</th>\n",
              "      <td>2020-02-13 16:50:00</td>\n",
              "      <td>精材股價攻95元波段高 上半年CIS訂單能見度審慎樂觀</td>\n",
              "      <td>精材股價攻95元波段高 上半年CIS訂單能見度審慎樂觀：記者周康玉／台北報導台積電轉投資的半...</td>\n",
              "      <td>[]</td>\n",
              "      <td>1.0</td>\n",
              "      <td>2</td>\n",
              "      <td>記者周康玉／台北報導台積電轉投資的半導體晶圓封裝廠精材（3374）今（13）日舉行法說會。精...</td>\n",
              "    </tr>\n",
              "  </tbody>\n",
              "</table>\n",
              "</div>"
            ],
            "text/plain": [
              "                  times  ...                                  contents_original\n",
              "248 2019-12-02 12:12:09  ...  自動化設備廠盟立 (2464-TW) 今年受美中貿易戰影響，部分客戶訂單延遲交貨，影響第 3...\n",
              "455 2020-02-24 13:24:23  ...  自結1月每股稅前盈餘為0.25元，由於日廠淡出部分產品，且大陸廠區因農曆年期間員工留守率高，...\n",
              "250 2019-11-06 14:53:05  ...  2019 年米蘭國際機車展登場，國內機車大廠三陽 (2206-TW) 發表三款歐五 (EUR...\n",
              "565 2020-04-06 14:12:25  ...  武漢肺炎肆虐全球，多國醫療物資短缺，中國被控趁火打劫，趁機獲利。美國聯邦眾議員葛林爆料，中國...\n",
              "627 2020-04-14 09:00:10  ...  疫情讓全球在家辦公、上學的人口持續增加，也帶動筆電、平板電腦或桌上型電腦需求激增，陸續傳出通...\n",
              "566 2020-04-06 17:00:04  ...  武漢肺炎肆虐全球，多國醫療物資短缺，中國被控趁火打劫，趁機獲利。美國聯邦眾議員葛林爆料，中國...\n",
              "557 2019-11-01 13:32:00  ...  ['MoneyDJ新聞 2019-11-01 13:32:02 記者 丁于珊 報導', '世...\n",
              "26  2019-12-20 16:00:00  ...  記者林淑慧／台北報導\\r經濟部統計處今（20）日公佈12月外銷訂單統計，訂單金額為445.3...\n",
              "754 2020-04-22 17:10:54  ...  \\r\\n近年來外送產業日漸發展，可以附註簡單的客製化服務，也深受人們喜愛。日前一名接到一張女...\n",
              "956 2020-03-23 10:07:30  ...  茂林-KY（4935）今（23）日無懼台股大盤走弱，展現抗跌力道，盤中一度逆勢翻紅，最高曾漲...\n",
              "450 2019-12-23 08:35:39  ...  大陸5G基地台新訂單可望自明年1月開始發酵，聯茂(6213)明年第1季營運淡季不淡，聯茂預估...\n",
              "1   2020-03-27 19:00:55  ...  \\n序號\\n2\\n發言日期\\n109/03/27\\n發言時間\\n19:00:55\\n發言人\\...\n",
              "93  2019-11-07 01:00:39  ...  美中貿易戰的狀況，原本市場人士都預料將會有所和緩。不料，在日前傳出美國政府關切晶圓代工龍頭台...\n",
              "312 2020-02-27 11:42:07  ...  矽晶圓廠去年的預算規畫時，原估今年第二季的訂單能見度會優於Q1，但受到新冠肺炎疫情影響，目前...\n",
              "759 2019-10-21 18:50:53  ...  ['9 月外銷訂單呈現連 11 黑，經濟部統計處處長黃于玲表示，依目前來看，因貿易戰影響全球...\n",
              "104 2020-04-10 08:04:33  ...  \\r\\n                     \\r\\n                 ...\n",
              "52  2020-05-05 08:08:07  ...  \\r\\n                     \\r\\n                 ...\n",
              "917 2020-02-13 16:50:00  ...  記者周康玉／台北報導台積電轉投資的半導體晶圓封裝廠精材（3374）今（13）日舉行法說會。精...\n",
              "\n",
              "[18 rows x 7 columns]"
            ]
          },
          "metadata": {
            "tags": []
          },
          "execution_count": 16
        }
      ]
    },
    {
      "cell_type": "code",
      "metadata": {
        "id": "w5gVM-wtBMKB",
        "colab_type": "code",
        "colab": {}
      },
      "source": [
        ""
      ],
      "execution_count": null,
      "outputs": []
    }
  ]
}